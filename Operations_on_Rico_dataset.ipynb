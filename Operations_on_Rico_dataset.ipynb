{
 "cells": [
  {
   "cell_type": "code",
   "execution_count": 79,
   "id": "63f5e03f",
   "metadata": {},
   "outputs": [
    {
     "name": "stdout",
     "output_type": "stream",
     "text": [
      "This dataset has  9384  apps\n",
      "This dataset has  10292  traces\n"
     ]
    },
    {
     "data": {
      "image/png": "[encoded data removed]",
      "text/plain": [
       "<Figure size 864x432 with 1 Axes>"
      ]
     },
     "metadata": {},
     "output_type": "display_data"
    },
    {
     "name": "stdout",
     "output_type": "stream",
     "text": [
      "Maximum depth of a UI-tree in this dataset is:  32 . And it is achieved on the app:  com.zillow.android.rentals\n"
     ]
    }
   ],
   "source": [
    "import os\n",
    "import numpy as np\n",
    "import matplotlib.pyplot as plt\n",
    "import json\n",
    "\n",
    "def dicts_in_list(l: list): #returns a list of all dictionaries\n",
    "    dicts = [] #list of dictionaries\n",
    "    for item in l:\n",
    "        if isinstance(item, dict): #adding a new dictionary in a list\n",
    "            dicts.append(item)\n",
    "        elif isinstance(item, list): #recursion if it is a list\n",
    "            dicts = dicts + dicts_in_list(item)\n",
    "    return dicts\n",
    "\n",
    "def dict_len(mydict, count=0): #returns dictionary depth\n",
    "    branches = [] #list of branches depths\n",
    "    for key in mydict or ():\n",
    "        if isinstance(mydict[key], dict):\n",
    "            branches.append(1) #adding a new branch if we have a dictionary\n",
    "            count = dict_len(mydict[key], count) \n",
    "            branches[-1] += count #adding a number we had got from recursion \n",
    "        elif isinstance(mydict[key], list):\n",
    "            for item in dicts_in_list(mydict[key]): #sorting through the dictionaries in the list and adding new branches\n",
    "                branches.append(1)\n",
    "                count = dict_len(item, count)\n",
    "                branches[-1] += count\n",
    "    if not branches:\n",
    "        count = 0\n",
    "    else:\n",
    "        count = max(branches)\n",
    "    return count\n",
    "\n",
    "\n",
    "path1 = os.getcwd(); #getting a name of your dir\n",
    "path = os.path.join(path1,\"filtered_traces\" ) #getting a path to a dataset\n",
    "cur_path = path #current path\n",
    "count_of_apps = 0 #amount of apps in dataset\n",
    "count_of_traces = 0; #amount of traces in dataset\n",
    "max_count = 0; #max length of a trace\n",
    "max_depth = 0; #max depth of a UI-tree\n",
    "app_with_max_depth = \"\"\n",
    "screen_count = 0; #current length of a trace\n",
    "depth = 0; #current depth \n",
    "with os.scandir(path) as List:\n",
    "    for entry in List:\n",
    "        count_of_apps += 1\n",
    "        with os.scandir(entry.path) as List1:\n",
    "            for entry1 in List1:\n",
    "                count_of_traces += 1\n",
    "                with os.scandir(entry1.path) as List2:\n",
    "                    for entry2 in List2:\n",
    "                        if (entry2.name == \"screenshots\") :\n",
    "                            with os.scandir(entry2.path) as List3:\n",
    "                                for entry3 in List3:\n",
    "                                    screen_count += 1\n",
    "                                if (screen_count > max_count) :\n",
    "                                    max_count = screen_count\n",
    "                                screen_count = 0\n",
    "    max_count >>= 1 #Division by 2 using a bit shift, because in my dataset there is a duplication\n",
    "#of files of the form: ._a.jpg and a.jpg\n",
    "\n",
    "#Finished counting all the necessary values\n",
    "print(\"This dataset has \", count_of_apps, \" apps\")\n",
    "print(\"This dataset has \",count_of_traces, \" traces\")\n",
    "#Starting finding the number of paths of different lengths\n",
    "x = np.arange(1, max_count + 1)\n",
    "y = np.zeros(max_count + 1, dtype = int)\n",
    "with os.scandir(path) as List:\n",
    "    for entry in List:\n",
    "        with os.scandir(entry.path) as List1:\n",
    "            for entry1 in List1:\n",
    "                with os.scandir(entry1.path) as List2:\n",
    "                    for entry2 in List2:\n",
    "                        if (entry2.name == \"screenshots\") :\n",
    "                            with os.scandir(entry2.path) as List3:\n",
    "                                for entry3 in List3:\n",
    "                                    screen_count += 1\n",
    "                                screen_count >>= 1 #similarly with the operation on max_count\n",
    "                                y[screen_count] += 1\n",
    "                                screen_count = 0\n",
    "#Building a histogram based on the data obtained the number of traces of different lengths\n",
    "fig, ax = plt.subplots()\n",
    "ax.bar(x, y[1:])\n",
    "ax.set_facecolor('seashell')\n",
    "fig.set_facecolor('floralwhite')\n",
    "fig.set_figwidth(12)   \n",
    "fig.set_figheight(6)    \n",
    "ax.set_xlabel(\"Length of trace\")\n",
    "ax.set_ylabel(\"Number of applications\")\n",
    "ax.set_title(\"Histogram of the dependence of the number of paths on their length\")\n",
    "plt.show()\n",
    "\n",
    "with os.scandir(path) as List:\n",
    "    for entry in List:\n",
    "        with os.scandir(entry.path) as List1:\n",
    "            for entry1 in List1:\n",
    "                with os.scandir(entry1.path) as List2:\n",
    "                    for entry2 in List2:\n",
    "                        if (entry2.name == \"view_hierarchies\") :\n",
    "                            with os.scandir(entry2.path) as List3:\n",
    "                                for entry3 in List3:\n",
    "                                    if (entry3.name[:2] != \"._\") :\n",
    "                                        cur_path = os.path.join(entry2.path,entry3.name)\n",
    "                                        with open(cur_path) as file:\n",
    "                                            dict1 = json.load(file)\n",
    "                                            depth = dict_len(dict1)\n",
    "                                            if (depth > max_depth) :\n",
    "                                                max_depth = depth\n",
    "                                                app_with_max_depth = entry.name\n",
    "print(\"Maximum depth of a UI-tree in this dataset is:\",max_depth,\".And it is achieved on the app: \", app_with_max_depth)\n",
    "\n",
    "                                                \n",
    "                                    \n"
   ]
  },
  {
   "cell_type": "code",
   "execution_count": null,
   "id": "f907e3ab",
   "metadata": {},
   "outputs": [],
   "source": []
  },
  {
   "cell_type": "code",
   "execution_count": null,
   "id": "b953b2ca",
   "metadata": {},
   "outputs": [],
   "source": []
  }
 ],
 "metadata": {
  "kernelspec": {
   "display_name": "Python 3",
   "language": "python",
   "name": "python3"
  },
  "language_info": {
   "codemirror_mode": {
    "name": "ipython",
    "version": 3
   },
   "file_extension": ".py",
   "mimetype": "text/x-python",
   "name": "python",
   "nbconvert_exporter": "python",
   "pygments_lexer": "ipython3",
   "version": "3.8.8"
  }
 },
 "nbformat": 4,
 "nbformat_minor": 5
}
